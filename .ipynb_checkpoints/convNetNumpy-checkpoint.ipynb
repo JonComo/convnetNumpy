{
 "cells": [
  {
   "cell_type": "code",
   "execution_count": 255,
   "metadata": {
    "collapsed": true
   },
   "outputs": [],
   "source": [
    "%matplotlib inline"
   ]
  },
  {
   "cell_type": "code",
   "execution_count": 256,
   "metadata": {
    "collapsed": true
   },
   "outputs": [],
   "source": [
    "from matplotlib import pyplot as plt\n",
    "import numpy as np"
   ]
  },
  {
   "cell_type": "code",
   "execution_count": 410,
   "metadata": {
    "collapsed": false
   },
   "outputs": [],
   "source": [
    "def sigmoid(x):\n",
    "    return 1.0 / (1.0 + np.exp(-x))\n",
    "def sigmoidp(x):\n",
    "    return x * (1.0 - x)\n",
    "\n",
    "class CNN(object):\n",
    "    def __init__(self, ks):\n",
    "        self.ks = ks\n",
    "        self.W = None\n",
    "        self.b = None\n",
    "        \n",
    "    def run(self, img, t, lr):\n",
    "        self.ff(img)\n",
    "        dcdh, y, c = self.cost(self.hs[-1], t, lr)\n",
    "        self.bp(dcdh, lr)\n",
    "        \n",
    "        return y, c\n",
    "        \n",
    "    def ff(self, img):\n",
    "        hs = [img]\n",
    "        h = img\n",
    "        for k in self.ks:\n",
    "            hout = self.conv(h, k, 1)\n",
    "            h = hout\n",
    "            hs.append(h)\n",
    "            \n",
    "        self.hs = np.asarray(hs)\n",
    "        \n",
    "        return self.hs\n",
    "    \n",
    "    def bp(self, lastd, lr):\n",
    "        d = lastd\n",
    "        ds = [lastd]\n",
    "        kgs = []\n",
    "        for i in reversed(xrange(len(self.hs) - 1)):\n",
    "            kg, d = self.convbp(self.hs[i], self.ks[i], 1, d)\n",
    "            ds.insert(0, d)\n",
    "            kgs.insert(0, kg)\n",
    "            \n",
    "        for i, kg in enumerate(kgs):\n",
    "            self.ks[i] -= lr * kg\n",
    "        \n",
    "        self.kgs = np.asarray(kgs)\n",
    "        self.ds = np.asarray(ds)\n",
    "        \n",
    "        return self.kgs, self.ds\n",
    "    \n",
    "    def cost(self, h, t, lr):\n",
    "        # make h flat\n",
    "        hflat = h.flatten()\n",
    "        hflat = hflat.reshape((1,hflat.shape[0]))\n",
    "        \n",
    "        print 'final h size', hflat.shape\n",
    "        \n",
    "        if self.W is None:\n",
    "            self.W = np.random.random_sample((hflat.shape[1], t.shape[1])) * .1 - .05\n",
    "            self.b = np.random.random_sample((1, t.shape[1])) * .1 - .05\n",
    "            print 'Init W', self.W.shape, 'and b', self.b.shape\n",
    "            \n",
    "        y = hflat.dot(self.W) + self.b\n",
    "        \n",
    "        c = .5 * np.sum(np.square(y - t))\n",
    "        \n",
    "        dcdy = (y - t).T\n",
    "        \n",
    "        gW = np.multiply(hflat.T, dcdy.T)\n",
    "        gb = dcdy.T\n",
    "        \n",
    "        #update weights\n",
    "        #self.W -= gW * lr\n",
    "        #self.b -= gb * lr\n",
    "        \n",
    "        dcdh = self.W.dot(dcdy)\n",
    "        dcdh = dcdh.reshape(h.shape)\n",
    "        \n",
    "        return dcdh, np.asarray(y), c\n",
    "    \n",
    "    def conv(self, img, kernel, s):\n",
    "        idim = img.shape[0]\n",
    "        ichan = img.shape[2]\n",
    "        kdim = kernel.shape[0]\n",
    "        kchan = kernel.shape[2]\n",
    "        \n",
    "        hdim = (idim - kdim) / s + 1\n",
    "\n",
    "        h = np.zeros((hdim, hdim, ichan * kchan))\n",
    "                \n",
    "        for ic in xrange(ichan):\n",
    "            for kc in xrange(kchan):\n",
    "                hindex = ic * kchan + kc\n",
    "                for r in xrange(hdim):\n",
    "                    for c in xrange(hdim):\n",
    "                        h[r,c,hindex] = np.sum(img[r*s:r*s+kdim, c*s:c*s+kdim, ic] * kernel[:,:,kc])\n",
    "\n",
    "        return h\n",
    "\n",
    "    def convbp(self, img, kernel, s, delta):\n",
    "        idim = img.shape[0]\n",
    "        ichan = img.shape[2]\n",
    "\n",
    "        kdim = kernel.shape[0]\n",
    "        kchan = kernel.shape[2]\n",
    "\n",
    "        ddim = delta.shape[0]\n",
    "        dchan = delta.shape[2]\n",
    "        \n",
    "        # bring deltas back to img and calc gradients\n",
    "        imgd = np.zeros_like(img)\n",
    "        kg = np.zeros_like(kernel)\n",
    "        \n",
    "        for ic in xrange(ichan):\n",
    "            for kc in xrange(kchan):\n",
    "                index = ic * kchan + kc\n",
    "                for r in xrange(ddim):\n",
    "                    for c in xrange(ddim):\n",
    "                        imgd[r*s:r*s+kdim,c*s:c*s+kdim, ic] += delta[r,c,index] * kernel[:,:,kc]\n",
    "                        kg[:,:,kc] += delta[r,c,index] * img[r*s:r*s+kdim,c*s:c*s+kdim, ic]\n",
    "\n",
    "        return kg, imgd\n",
    "    \n",
    "column = 1\n",
    "cnt = 1\n",
    "def gstart(count, size=(12,12)):\n",
    "    plt.figure(figsize=size)\n",
    "    global column, cnt\n",
    "    column = 1\n",
    "    cnt = count\n",
    "    \n",
    "def g(mat, title=None):\n",
    "    global column\n",
    "    plt.subplot(1, cnt, column)\n",
    "    plt.axis('off')\n",
    "    if title:\n",
    "        plt.title(title + str(mat.shape))\n",
    "    plt.imshow(mat, interpolation='nearest', cmap=plt.cm.gray, vmin=-1, vmax=1)\n",
    "    column += 1"
   ]
  },
  {
   "cell_type": "code",
   "execution_count": 413,
   "metadata": {
    "collapsed": false
   },
   "outputs": [],
   "source": [
    "img = plt.imread('../imgs/witch.png')[240:300, 240:300, 1]\n",
    "img = img.reshape((img.shape[0], img.shape[1], 1))\n",
    "layers = 4\n",
    "\n",
    "t = np.random.random_sample((1, 1))\n",
    "\n",
    "ks = np.random.random_sample((layers,3,3,1)) * .1 - .05\n",
    "myCNN = CNN(ks)"
   ]
  },
  {
   "cell_type": "code",
   "execution_count": 444,
   "metadata": {
    "collapsed": false
   },
   "outputs": [
    {
     "name": "stdout",
     "output_type": "stream",
     "text": [
      "final h size (1, 2704)\n",
      "cost 0.496372868392\n"
     ]
    }
   ],
   "source": [
    "y, c = myCNN.run(img, t, 0.01)\n",
    "#print 'y', y[0]\n",
    "print 'cost', c"
   ]
  },
  {
   "cell_type": "code",
   "execution_count": 409,
   "metadata": {
    "collapsed": false
   },
   "outputs": [
    {
     "name": "stdout",
     "output_type": "stream",
     "text": [
      "(54, 54, 8)\n"
     ]
    },
    {
     "data": {
      "image/png": "[encoded data removed]",
      "text/plain": [
       "<matplotlib.figure.Figure at 0x108a531d0>"
      ]
     },
     "metadata": {},
     "output_type": "display_data"
    }
   ],
   "source": [
    "gstart(layers+1, (14, 14))\n",
    "for i in xrange(layers):\n",
    "    g(myCNN.hs[i][:,:,0], 'h%d'%i)"
   ]
  },
  {
   "cell_type": "code",
   "execution_count": 407,
   "metadata": {
    "collapsed": false
   },
   "outputs": [
    {
     "data": {
      "image/png": "[encoded data removed]",
      "text/plain": [
       "<matplotlib.figure.Figure at 0x1063ec590>"
      ]
     },
     "metadata": {},
     "output_type": "display_data"
    }
   ],
   "source": [
    "gstart(layers, (11, 11))\n",
    "for i in xrange(layers):\n",
    "    g(myCNN.ds[i][:,:,0], 'd%d'%i)"
   ]
  },
  {
   "cell_type": "code",
   "execution_count": null,
   "metadata": {
    "collapsed": true
   },
   "outputs": [],
   "source": []
  }
 ],
 "metadata": {
  "kernelspec": {
   "display_name": "Python 2",
   "language": "python",
   "name": "python2"
  },
  "language_info": {
   "codemirror_mode": {
    "name": "ipython",
    "version": 2
   },
   "file_extension": ".py",
   "mimetype": "text/x-python",
   "name": "python",
   "nbconvert_exporter": "python",
   "pygments_lexer": "ipython2",
   "version": "2.7.10"
  }
 },
 "nbformat": 4,
 "nbformat_minor": 0
}
